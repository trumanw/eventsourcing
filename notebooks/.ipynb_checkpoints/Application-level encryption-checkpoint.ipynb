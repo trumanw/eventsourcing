{
 "cells": [
  {
   "cell_type": "code",
   "execution_count": 1,
   "id": "elegant-heater",
   "metadata": {},
   "outputs": [],
   "source": [
    "from eventsourcing.utils.cipher.aes import AESCipher\n",
    "from eventsourcing.utils.random import encode_random_bytes, decode_bytes\n",
    "\n",
    "# Unicode string representing 256 random bits encoded with Base64.\n",
    "cipher_key = encode_random_bytes(num_bytes=32)\n",
    "\n",
    "# Construct AES-256 cipher.\n",
    "cipher = AESCipher(cipher_key=decode_bytes(cipher_key))\n",
    "\n",
    "# Encrypt some plaintext (using nonce arguments).\n",
    "ciphertext = cipher.encrypt(b'plaintext')\n",
    "assert ciphertext != b'plaintext'\n",
    "\n",
    "# Decrypt some ciphertext.\n",
    "plaintext = cipher.decrypt(ciphertext)\n",
    "assert plaintext == b'plaintext'"
   ]
  },
  {
   "cell_type": "code",
   "execution_count": 3,
   "id": "prescription-recall",
   "metadata": {},
   "outputs": [
    {
     "data": {
      "text/plain": [
       "(b'plaintext',\n",
       " b'\\x83V\\xd4\\x12~>s\\x91?\\xef3%9\\nq\\x9baN\\xea\\xf0g\\xfb\\x8e\\xb0\\xff<c\\x81\\xe7`\\xa5\\xc3>\\xce!)?')"
      ]
     },
     "execution_count": 3,
     "metadata": {},
     "output_type": "execute_result"
    }
   ],
   "source": [
    "plaintext, ciphertext"
   ]
  },
  {
   "cell_type": "markdown",
   "id": "optimum-tuner",
   "metadata": {},
   "source": [
    "# Standalone Example"
   ]
  },
  {
   "cell_type": "markdown",
   "id": "integrated-madonna",
   "metadata": {},
   "source": [
    "### Domain Events"
   ]
  },
  {
   "cell_type": "code",
   "execution_count": 59,
   "id": "authorized-burning",
   "metadata": {},
   "outputs": [],
   "source": [
    "class DomainEvent(object):\n",
    "    \"\"\"\n",
    "    Supertype for domain event objects.\n",
    "    \"\"\"\n",
    "    def __init__(self, originator_id, originator_version, **kwargs):\n",
    "        self.originator_id = originator_id\n",
    "        self.originator_version = originator_version\n",
    "        self.__dict__.update(kwargs)\n",
    "\n",
    "\n",
    "class Created(DomainEvent):\n",
    "    \"\"\"\n",
    "    Published when an entity is created.\n",
    "    \"\"\"\n",
    "    def __init__(self, **kwargs):\n",
    "        super(Created, self).__init__(originator_version=0, **kwargs)\n",
    "\n",
    "\n",
    "class AttributeChanged(DomainEvent):\n",
    "    \"\"\"\n",
    "    Published when an attribute value is changed.\n",
    "    \"\"\"\n",
    "    def __init__(self, name, value, **kwargs):\n",
    "        super(AttributeChanged, self).__init__(**kwargs)\n",
    "        self.name = name\n",
    "        self.value = value\n",
    "\n",
    "\n",
    "class Discarded(DomainEvent):\n",
    "    \"\"\"\n",
    "    Published when an entity is discarded.\n",
    "    \"\"\""
   ]
  },
  {
   "cell_type": "markdown",
   "id": "expected-midwest",
   "metadata": {},
   "source": [
    "### Publish-subscribe"
   ]
  },
  {
   "cell_type": "code",
   "execution_count": 61,
   "id": "yellow-salvation",
   "metadata": {},
   "outputs": [],
   "source": [
    "subscribers = []\n",
    "\n",
    "def publish(events):\n",
    "    for subscriber in subscribers:\n",
    "        subscriber(events)\n",
    "\n",
    "\n",
    "def subscribe(subscriber):\n",
    "    subscribers.append(subscriber)\n",
    "\n",
    "\n",
    "def unsubscribe(subscriber):\n",
    "    subscribers.remove(subscriber)"
   ]
  },
  {
   "cell_type": "markdown",
   "id": "suspended-tongue",
   "metadata": {},
   "source": [
    "### Domain Entity"
   ]
  },
  {
   "cell_type": "code",
   "execution_count": 64,
   "id": "alike-union",
   "metadata": {},
   "outputs": [],
   "source": [
    "class Example(object):\n",
    "    \"\"\"\n",
    "    Example domain entity.\n",
    "    \"\"\"\n",
    "    def __init__(self, originator_id, originator_version=0, foo=''):\n",
    "        self._id = originator_id\n",
    "        self.___version__ = originator_version\n",
    "        self._is_discarded = False\n",
    "        self._foo = foo\n",
    "\n",
    "    @property\n",
    "    def id(self):\n",
    "        return self._id\n",
    "\n",
    "    @property\n",
    "    def __version__(self):\n",
    "        return self.___version__\n",
    "\n",
    "    @property\n",
    "    def foo(self):\n",
    "        return self._foo\n",
    "\n",
    "    @foo.setter\n",
    "    def foo(self, value):\n",
    "        assert not self._is_discarded\n",
    "\n",
    "        # Construct an 'AttributeChanged' event object.\n",
    "        event = AttributeChanged(\n",
    "            originator_id=self.id,\n",
    "            originator_version=self.__version__,\n",
    "            name='foo',\n",
    "            value=value,\n",
    "        )\n",
    "\n",
    "        # Apply the event to self.\n",
    "        mutate(self, event)\n",
    "\n",
    "        # Publish the event for others.\n",
    "        publish([event])\n",
    "\n",
    "    def discard(self):\n",
    "        assert not self._is_discarded\n",
    "\n",
    "        # Construct a 'Discarded' event object.\n",
    "        event = Discarded(\n",
    "            originator_id=self.id,\n",
    "            originator_version=self.__version__\n",
    "        )\n",
    "\n",
    "        # Apply the event to self.\n",
    "        mutate(self, event)\n",
    "\n",
    "        # Publish the event for others.\n",
    "        publish([event])"
   ]
  },
  {
   "cell_type": "code",
   "execution_count": 65,
   "id": "distinct-provider",
   "metadata": {},
   "outputs": [],
   "source": [
    "import uuid\n",
    "\n",
    "def create_new_example(foo):\n",
    "    \"\"\"\n",
    "    Factory for Example entities.\n",
    "    \"\"\"\n",
    "    # Construct an entity ID.\n",
    "    entity_id = uuid.uuid4()\n",
    "\n",
    "    # Construct a 'Created' event object.\n",
    "    event = Created(\n",
    "        originator_id=entity_id,\n",
    "        foo=foo\n",
    "    )\n",
    "\n",
    "    # Use the mutator function to construct the entity object.\n",
    "    entity = mutate(None, event)\n",
    "\n",
    "    # Publish the event for others.\n",
    "    publish([event])\n",
    "\n",
    "    # Return the new entity.\n",
    "    return entity"
   ]
  },
  {
   "cell_type": "markdown",
   "id": "played-transition",
   "metadata": {},
   "source": [
    "### Mutator Function"
   ]
  },
  {
   "cell_type": "code",
   "execution_count": 67,
   "id": "official-arena",
   "metadata": {},
   "outputs": [],
   "source": [
    "def mutate(entity, event):\n",
    "    \"\"\"\n",
    "    Mutator function for Example entities.\n",
    "    \"\"\"\n",
    "    # Handle \"created\" events by constructing the entity object.\n",
    "    if isinstance(event, Created):\n",
    "        entity = Example(**event.__dict__)\n",
    "        entity.___version__ += 1\n",
    "        return entity\n",
    "\n",
    "    # Handle \"value changed\" events by setting the named value.\n",
    "    elif isinstance(event, AttributeChanged):\n",
    "        assert not entity._is_discarded\n",
    "        setattr(entity, '_' + event.name, event.value)\n",
    "        entity.___version__ += 1\n",
    "        return entity\n",
    "\n",
    "    # Handle \"discarded\" events by returning 'None'.\n",
    "    elif isinstance(event, Discarded):\n",
    "        assert not entity._is_discarded\n",
    "        entity.___version__ += 1\n",
    "        entity._is_discarded = True\n",
    "        return None\n",
    "    else:\n",
    "        raise NotImplementedError(type(event))"
   ]
  },
  {
   "cell_type": "markdown",
   "id": "surgical-italic",
   "metadata": {},
   "source": [
    "### Run the code"
   ]
  },
  {
   "cell_type": "code",
   "execution_count": 77,
   "id": "explicit-intro",
   "metadata": {},
   "outputs": [],
   "source": [
    "# A list of received events.\n",
    "received_events = []\n",
    "\n",
    "# Subscribe to receive published events.\n",
    "subscribe(lambda e: received_events.extend(e))"
   ]
  },
  {
   "cell_type": "code",
   "execution_count": null,
   "id": "controversial-brooks",
   "metadata": {},
   "outputs": [],
   "source": []
  }
 ],
 "metadata": {
  "kernelspec": {
   "display_name": "Python 3",
   "language": "python",
   "name": "python3"
  },
  "language_info": {
   "codemirror_mode": {
    "name": "ipython",
    "version": 3
   },
   "file_extension": ".py",
   "mimetype": "text/x-python",
   "name": "python",
   "nbconvert_exporter": "python",
   "pygments_lexer": "ipython3",
   "version": "3.7.10"
  }
 },
 "nbformat": 4,
 "nbformat_minor": 5
}
